{
 "cells": [
  {
   "cell_type": "markdown",
   "metadata": {},
   "source": [
    "# Sentiment Analysis Using Keras"
   ]
  },
  {
   "cell_type": "code",
   "execution_count": 3,
   "metadata": {
    "collapsed": true
   },
   "outputs": [],
   "source": [
    "#Access database and get dataset\n",
    "import pandas as pd\n",
    "import sqlite3\n",
    "conn = sqlite3.connect('capstone.db')\n",
    "# tblGame , tblMovie, tblReview, tblTVShow\n",
    "# load games dataset\n",
    "games = pd.read_sql_query(\"SELECT * FROM tblGame;\", conn)\n",
    "games['gameID'] = games.index + 1\n",
    "reviews = pd.read_sql_query(\"SELECT * FROM tblReview;\", conn)"
   ]
  },
  {
   "cell_type": "code",
   "execution_count": 4,
   "metadata": {
    "collapsed": false
   },
   "outputs": [],
   "source": [
    "#filter reviews so that we only use critic reviews\n",
    "critic_reviews = reviews[reviews['reviewType'] == 'c']\n"
   ]
  },
  {
   "cell_type": "code",
   "execution_count": 5,
   "metadata": {
    "collapsed": false
   },
   "outputs": [
    {
     "name": "stderr",
     "output_type": "stream",
     "text": [
      "/Users/Daniel/anaconda/lib/python2.7/site-packages/ipykernel/__main__.py:17: SettingWithCopyWarning: \n",
      "A value is trying to be set on a copy of a slice from a DataFrame.\n",
      "Try using .loc[row_indexer,col_indexer] = value instead\n",
      "\n",
      "See the caveats in the documentation: http://pandas.pydata.org/pandas-docs/stable/indexing.html#indexing-view-versus-copy\n"
     ]
    }
   ],
   "source": [
    "#function to clean text\n",
    "\n",
    "import re\n",
    "\n",
    "def cleaning_text(sentence):\n",
    "    sentence = sentence.lower()\n",
    "    sentence = re.sub(r'\\\\r, u', ' ', sentence)\n",
    "    sentence = re.sub(r'\\\\', \"'\", sentence)\n",
    "    sentence = sentence.split()\n",
    "    sentence = [re.sub(\"([^a-z0-9' \\t])\", '', x) for x in sentence]\n",
    "    cleaned = [s for s in sentence if s != '']\n",
    "    cleaned = ' '.join(cleaned)\n",
    "    return cleaned\n",
    "\n",
    "\n",
    "#apply function to dataset\n",
    "critic_reviews['textClean'] = critic_reviews.apply(lambda row: cleaning_text(row['text'].encode(\"utf8\")), axis=1)"
   ]
  },
  {
   "cell_type": "code",
   "execution_count": 6,
   "metadata": {
    "collapsed": false
   },
   "outputs": [
    {
     "name": "stdout",
     "output_type": "stream",
     "text": [
      "477672\n",
      "75.0\n",
      "19.3140135003\n",
      "106045\n",
      "96010\n"
     ]
    },
    {
     "data": {
      "image/png": "[encoded data removed]",
      "text/plain": [
       "<matplotlib.figure.Figure at 0x13adb6e10>"
      ]
     },
     "metadata": {},
     "output_type": "display_data"
    }
   ],
   "source": [
    "#Basic EDA for dataset\n",
    "\n",
    "%matplotlib inline\n",
    "import matplotlib.pyplot as plt\n",
    "\n",
    "print len(critic_reviews)\n",
    "print critic_reviews['score'].median()\n",
    "print critic_reviews['score'].std()\n",
    "plt.hist(critic_reviews['score'], bins = 15)\n",
    "plt.xlabel('Review Scores')\n",
    "plt.ylabel('Count')\n",
    "print len(critic_reviews[critic_reviews['score'] >= (85)])\n",
    "print len(critic_reviews[critic_reviews['score'] <= (55)])"
   ]
  },
  {
   "cell_type": "code",
   "execution_count": 7,
   "metadata": {
    "collapsed": false
   },
   "outputs": [
    {
     "name": "stderr",
     "output_type": "stream",
     "text": [
      "/Users/Daniel/anaconda/lib/python2.7/site-packages/ipykernel/__main__.py:9: SettingWithCopyWarning: \n",
      "A value is trying to be set on a copy of a slice from a DataFrame.\n",
      "Try using .loc[row_indexer,col_indexer] = value instead\n",
      "\n",
      "See the caveats in the documentation: http://pandas.pydata.org/pandas-docs/stable/indexing.html#indexing-view-versus-copy\n"
     ]
    }
   ],
   "source": [
    "#label reviews 85 or over as positive and 55 or lower as negative\n",
    "\n",
    "def binarizer(x):\n",
    "    if x <= 55:\n",
    "        return 0\n",
    "    if x >= 85:\n",
    "        return 1\n",
    "    \n",
    "critic_reviews['overall'] = critic_reviews['score'].apply(lambda row: binarizer(row))"
   ]
  },
  {
   "cell_type": "code",
   "execution_count": 8,
   "metadata": {
    "collapsed": false
   },
   "outputs": [
    {
     "name": "stdout",
     "output_type": "stream",
     "text": [
      "195823\n",
      "   level_0  index  gameID  movieID  tvShowID           publication  \\\n",
      "0        0      4     1.0      NaN       NaN  Digitally Downloaded   \n",
      "1        1      5     2.0      NaN       NaN         God is a Geek   \n",
      "2        2     31     2.0      NaN       NaN          PSX-Sense.nl   \n",
      "3        3     32     2.0      NaN       NaN           Push Square   \n",
      "4        4     33     2.0      NaN       NaN   We Got This Covered   \n",
      "\n",
      "                                           textClean  overall  length  \n",
      "0  it may sound like im being harsh on ginger but...      0.0      69  \n",
      "1  jojos bizarre adventure eyes in heaven feature...      1.0      21  \n",
      "2  the amount of fan service is both admirable an...      0.0      44  \n",
      "3  fun for a few bouts now and then this is a bra...      0.0      37  \n",
      "4  fans of the source material will find plenty o...      0.0      43  \n"
     ]
    },
    {
     "data": {
      "text/plain": [
       "1.0    105656\n",
       "0.0     90167\n",
       "Name: overall, dtype: int64"
      ]
     },
     "execution_count": 8,
     "metadata": {},
     "output_type": "execute_result"
    }
   ],
   "source": [
    "import numpy as np\n",
    "\n",
    "#drop rows with NA values for overall (scores between 55 and 85)\n",
    "subset = critic_reviews[pd.notnull(critic_reviews['overall'])].reset_index()\n",
    "\n",
    "length_df = subset\n",
    "length_df['length'] = pd.DataFrame(subset['textClean'].apply(lambda x: len(x.split(' '))))\n",
    "over = length_df[length_df['length'] > 2]\n",
    "#print over.sort_values('length')\n",
    "print len(over)\n",
    "\n",
    "subset = over.drop(['author', 'text', 'score', 'date', 'thumbsUp', 'thumbsDown', 'reviewType'], axis = 1).reset_index()\n",
    "print subset.head()\n",
    "subset['overall'].value_counts()"
   ]
  },
  {
   "cell_type": "code",
   "execution_count": 9,
   "metadata": {
    "collapsed": false
   },
   "outputs": [
    {
     "name": "stdout",
     "output_type": "stream",
     "text": [
      "100038\n"
     ]
    }
   ],
   "source": [
    "from collections import Counter\n",
    "#results = set()\n",
    "results = Counter()\n",
    "subset['textClean'].str.lower().str.split().apply(results.update)\n",
    "\n",
    "#number of unique words, just over 100,000\n",
    "print len(results)"
   ]
  },
  {
   "cell_type": "code",
   "execution_count": 10,
   "metadata": {
    "collapsed": true
   },
   "outputs": [],
   "source": [
    "# cut texts after this number of words \n",
    "max_length = 188\n",
    "max_features = 100038\n",
    "batch_size = 32"
   ]
  },
  {
   "cell_type": "code",
   "execution_count": 11,
   "metadata": {
    "collapsed": false
   },
   "outputs": [],
   "source": [
    "#tokenize text into integers\n",
    "\n",
    "from keras.preprocessing import text\n",
    "import keras \n",
    "\n",
    "tk = text.Tokenizer(max_features, filters=keras.preprocessing.text.base_filter(), split=\" \")\n",
    "tk.fit_on_texts(subset['textClean'])\n",
    "\n",
    "#create data set, both features and labels\n",
    "x = tk.texts_to_sequences(subset['textClean'])\n",
    "y = subset['overall']"
   ]
  },
  {
   "cell_type": "code",
   "execution_count": 12,
   "metadata": {
    "collapsed": false
   },
   "outputs": [],
   "source": [
    "#pad sequences with zeros so that all reviews are the same length\n",
    "x = sequence.pad_sequences(x, maxlen = max_length, padding = 'post')"
   ]
  },
  {
   "cell_type": "code",
   "execution_count": 13,
   "metadata": {
    "collapsed": false
   },
   "outputs": [
    {
     "data": {
      "text/plain": [
       "array([30743,  1669,   151,  1063,     8,  2550,   233,    49,   164,\n",
       "           3,     2,  1104,    62,   326,   134,   183,    23,     5,\n",
       "          80,  4333,    64,     0,     0,     0,     0,     0,     0,\n",
       "           0,     0,     0,     0,     0,     0,     0,     0,     0,\n",
       "           0,     0,     0,     0,     0,     0,     0,     0,     0,\n",
       "           0,     0,     0,     0,     0,     0,     0,     0,     0,\n",
       "           0,     0,     0,     0,     0,     0,     0,     0,     0,\n",
       "           0,     0,     0,     0,     0,     0,     0,     0,     0,\n",
       "           0,     0,     0,     0,     0,     0,     0,     0,     0,\n",
       "           0,     0,     0,     0,     0,     0,     0,     0,     0,\n",
       "           0,     0,     0,     0,     0,     0,     0,     0,     0,\n",
       "           0,     0,     0,     0,     0,     0,     0,     0,     0,\n",
       "           0,     0,     0,     0,     0,     0,     0,     0,     0,\n",
       "           0,     0,     0,     0,     0,     0,     0,     0,     0,\n",
       "           0,     0,     0,     0,     0,     0,     0,     0,     0,\n",
       "           0,     0,     0,     0,     0,     0,     0,     0,     0,\n",
       "           0,     0,     0,     0,     0,     0,     0,     0,     0,\n",
       "           0,     0,     0,     0,     0,     0,     0,     0,     0,\n",
       "           0,     0,     0,     0,     0,     0,     0,     0,     0,\n",
       "           0,     0,     0,     0,     0,     0,     0,     0,     0,\n",
       "           0,     0,     0,     0,     0,     0,     0,     0], dtype=int32)"
      ]
     },
     "execution_count": 13,
     "metadata": {},
     "output_type": "execute_result"
    }
   ],
   "source": [
    "x[1]"
   ]
  },
  {
   "cell_type": "code",
   "execution_count": 14,
   "metadata": {
    "collapsed": true
   },
   "outputs": [],
   "source": [
    "#Divide dataset into train and test\n",
    "\n",
    "from sklearn.model_selection import train_test_split\n",
    "\n",
    "X_train, X_test, y_train, y_test = train_test_split(\n",
    "x, y, test_size=0.2, random_state=42)"
   ]
  },
  {
   "cell_type": "code",
   "execution_count": 15,
   "metadata": {
    "collapsed": false
   },
   "outputs": [
    {
     "name": "stdout",
     "output_type": "stream",
     "text": [
      "156658 39165 156658 39165\n",
      "(156658, 188)\n",
      "(156658,)\n",
      "(39165, 188)\n",
      "(39165,)\n"
     ]
    }
   ],
   "source": [
    "print len(X_train), len(X_test), len(y_train), len(y_test)\n",
    "print X_train.shape\n",
    "print y_train.shape\n",
    "print X_test.shape\n",
    "print y_test.shape"
   ]
  },
  {
   "cell_type": "code",
   "execution_count": 30,
   "metadata": {
    "collapsed": false
   },
   "outputs": [
    {
     "name": "stdout",
     "output_type": "stream",
     "text": [
      "____________________________________________________________________________________________________\n",
      "Layer (type)                     Output Shape          Param #     Connected to                     \n",
      "====================================================================================================\n",
      "embedding_10 (Embedding)         (None, 188, 200)      20011800    embedding_input_10[0][0]         \n",
      "____________________________________________________________________________________________________\n",
      "convolution1d_16 (Convolution1D) (None, 185, 64)       51264       embedding_10[0][0]               \n",
      "____________________________________________________________________________________________________\n",
      "maxpooling1d_16 (MaxPooling1D)   (None, 46, 64)        0           convolution1d_16[0][0]           \n",
      "____________________________________________________________________________________________________\n",
      "convolution1d_17 (Convolution1D) (None, 43, 64)        16448       maxpooling1d_16[0][0]            \n",
      "____________________________________________________________________________________________________\n",
      "maxpooling1d_17 (MaxPooling1D)   (None, 10, 64)        0           convolution1d_17[0][0]           \n",
      "____________________________________________________________________________________________________\n",
      "convolution1d_18 (Convolution1D) (None, 7, 64)         16448       maxpooling1d_17[0][0]            \n",
      "____________________________________________________________________________________________________\n",
      "maxpooling1d_18 (MaxPooling1D)   (None, 1, 64)         0           convolution1d_18[0][0]           \n",
      "____________________________________________________________________________________________________\n",
      "lstm_27 (LSTM)                   (None, 1, 64)         33024       maxpooling1d_18[0][0]            \n",
      "____________________________________________________________________________________________________\n",
      "lstm_28 (LSTM)                   (None, 1, 64)         33024       lstm_27[0][0]                    \n",
      "____________________________________________________________________________________________________\n",
      "lstm_29 (LSTM)                   (None, 64)            33024       lstm_28[0][0]                    \n",
      "____________________________________________________________________________________________________\n",
      "dense_10 (Dense)                 (None, 1)             65          lstm_29[0][0]                    \n",
      "====================================================================================================\n",
      "Total params: 20195097\n",
      "____________________________________________________________________________________________________\n",
      "None\n",
      "Train on 125326 samples, validate on 31332 samples\n",
      "Epoch 1/10\n",
      "125326/125326 [==============================] - 1064s - loss: 0.3058 - acc: 0.8645 - val_loss: 0.2343 - val_acc: 0.9034\n",
      "Epoch 2/10\n",
      "125326/125326 [==============================] - 1515s - loss: 0.1424 - acc: 0.9452 - val_loss: 0.2484 - val_acc: 0.9039\n",
      "Accuracy: 90.12%\n"
     ]
    }
   ],
   "source": [
    "from keras.layers import LSTM, Dropout\n",
    "from keras.layers.convolutional import Convolution1D\n",
    "from keras.layers.convolutional import MaxPooling1D\n",
    "from keras.callbacks import EarlyStopping\n",
    "\n",
    "max_features = 100059 \n",
    "max_length = 188\n",
    "embedding_vector_length = 200\n",
    "early_stopping_monitor = EarlyStopping(patience=0)\n",
    "\n",
    "kernel_size = 4\n",
    "filters = 64\n",
    "pool_size = 4\n",
    "\n",
    "ltsm_output_size = 64\n",
    "\n",
    "model = Sequential()\n",
    "model.add(Embedding(max_features, embedding_vector_length, input_length = max_length))\n",
    "model.add(Convolution1D(filters, kernel_size, activation='relu'))\n",
    "model.add(MaxPooling1D(pool_size))\n",
    "model.add(Convolution1D(filters, kernel_size, activation='relu'))\n",
    "model.add(MaxPooling1D(pool_size))\n",
    "model.add(Convolution1D(filters, kernel_size, activation='relu'))\n",
    "model.add(MaxPooling1D(pool_size))\n",
    "model.add(LSTM(ltsm_output_size, return_sequences=True)) \n",
    "model.add(LSTM(ltsm_output_size, return_sequences=True))\n",
    "model.add(LSTM(ltsm_output_size))  \n",
    "model.add(Dense(1, activation='sigmoid'))    \n",
    "model.compile(loss='binary_crossentropy', optimizer='adam', metrics=['accuracy'])\n",
    "print(model.summary())\n",
    "\n",
    "#Fit the model\n",
    "model.fit(X_train, y_train, nb_epoch=10, batch_size=64, validation_split=0.2, verbose = True, callbacks=[early_stopping_monitor])\n",
    "# Final evaluation of the model\n",
    "scores = model.evaluate(X_test, y_test, verbose=0)\n",
    "print(\"Accuracy: %.2f%%\" % (scores[1]*100))"
   ]
  },
  {
   "cell_type": "code",
   "execution_count": 31,
   "metadata": {
    "collapsed": true
   },
   "outputs": [],
   "source": [
    "#save weights of neural network\n",
    "weights = model.save_weights"
   ]
  },
  {
   "cell_type": "code",
   "execution_count": 37,
   "metadata": {
    "collapsed": false
   },
   "outputs": [
    {
     "name": "stdout",
     "output_type": "stream",
     "text": [
      "The movie was boring. It was supposed to be a comedy, but I laughed maybe once\n",
      "Rating:8\n"
     ]
    },
    {
     "data": {
      "text/plain": [
       "\"It seems like you didn't have a positive experience, are you sure about that score?\""
      ]
     },
     "execution_count": 37,
     "metadata": {},
     "output_type": "execute_result"
    }
   ],
   "source": [
    "input_str = 'The movie was boring. It was supposed to be a comedy, but I laughed maybe once'\n",
    "rating = 8\n",
    "\n",
    "#function to use weights of model to make prediction and provide feedback\n",
    "def sentiment_predictor(input_str, rating):\n",
    "    dummy = ''\n",
    "    cleaned = cleaning_text(input_str)\n",
    "    sequences = tk.texts_to_sequences([dummy, cleaned])\n",
    "    padded_sequences = sequence.pad_sequences(sequences, maxlen = 188, padding = 'post')\n",
    "    preds = model.predict(padded_sequences)\n",
    "\n",
    "\n",
    "    #either 0 or 1\n",
    "    \n",
    "    predicted_rating = round(preds[1])\n",
    "    #print predicted_rating \n",
    "    \n",
    "    if rating <= 6 and predicted_rating == 1:\n",
    "        return 'Are you sure about that score? It seems like you had a positive experience'\n",
    "    elif rating >= 7 and predicted_rating == 0:\n",
    "        return \"It seems like you didn't have a positive experience, are you sure about that score?\"\n",
    "\n",
    "print input_str\n",
    "print 'Rating:%s' %(rating) \n",
    "sentiment_predictor(input_str, rating)"
   ]
  },
  {
   "cell_type": "code",
   "execution_count": 40,
   "metadata": {
    "collapsed": false
   },
   "outputs": [
    {
     "name": "stdout",
     "output_type": "stream",
     "text": [
      "I loved it! Could not imagine a more perfect ending\n",
      "Rating:3\n"
     ]
    },
    {
     "data": {
      "text/plain": [
       "'Are you sure about that score? It seems like you had a positive experience'"
      ]
     },
     "execution_count": 40,
     "metadata": {},
     "output_type": "execute_result"
    }
   ],
   "source": [
    "input_str = 'I loved it! Could not imagine a more perfect ending'\n",
    "rating = 3\n",
    "print input_str\n",
    "print 'Rating:%s' %(rating) \n",
    "sentiment_predictor(input_str, rating)"
   ]
  },
  {
   "cell_type": "code",
   "execution_count": null,
   "metadata": {
    "collapsed": true
   },
   "outputs": [],
   "source": []
  }
 ],
 "metadata": {
  "anaconda-cloud": {},
  "kernelspec": {
   "display_name": "Python [conda root]",
   "language": "python",
   "name": "conda-root-py"
  },
  "language_info": {
   "codemirror_mode": {
    "name": "ipython",
    "version": 2
   },
   "file_extension": ".py",
   "mimetype": "text/x-python",
   "name": "python",
   "nbconvert_exporter": "python",
   "pygments_lexer": "ipython2",
   "version": "2.7.13"
  }
 },
 "nbformat": 4,
 "nbformat_minor": 1
}
